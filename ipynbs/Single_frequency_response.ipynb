{
 "cells": [
  {
   "cell_type": "code",
   "execution_count": 2,
   "metadata": {},
   "outputs": [
    {
     "name": "stdout",
     "output_type": "stream",
     "text": [
      "0.7402327404075552 0.8401287319612003 0.9229857184190939 0.9352730264447413\n"
     ]
    },
    {
     "name": "stderr",
     "output_type": "stream",
     "text": [
      "D:\\Users\\ouyangqq\\Anaconda3\\lib\\site-packages\\matplotlib\\font_manager.py:1320: UserWarning: findfont: Font family [''] not found. Falling back to DejaVu Sans\n",
      "  (prop.get_family(), self.defaultFamily[fontext]))\n",
      "D:\\Users\\ouyangqq\\Anaconda3\\lib\\site-packages\\matplotlib\\font_manager.py:1320: UserWarning: findfont: Font family ['simSun'] not found. Falling back to DejaVu Sans\n",
      "  (prop.get_family(), self.defaultFamily[fontext]))\n"
     ]
    },
    {
     "data": {
      "image/png": "[encoded data removed]",
      "text/plain": [
       "<matplotlib.figure.Figure at 0x176d8008f60>"
      ]
     },
     "metadata": {
      "needs_background": "light"
     },
     "output_type": "display_data"
    }
   ],
   "source": [
    "#frequency reponse\n",
    "from sys import path\n",
    "import ultils as alt\n",
    "import Receptors as receptorlib\n",
    "import matplotlib.pyplot as plt\n",
    "import numpy as np\n",
    "\n",
    "color_bf=['k','k','k','k']\n",
    "#filepath=''\n",
    "'''Mean square error root'''  \n",
    "def rmse(y_test, y):  \n",
    "    return np.sqrt(np.mean((y_test - y) ** 2))  \n",
    "  \n",
    "'''The degree of excellence compared to the mean is between [0~1]. \n",
    "0 means not as good as the mean. 1 indicates perfect prediction. \n",
    "The implementation of this version is based on the scikit-learn official website document.\n",
    "'''  \n",
    "def R2(y_test, y_true):  \n",
    "    return 1 - ((y_test - y_true)**2).sum() / ((y_true - y_true.mean())**2).sum()  \n",
    "   \n",
    "\n",
    "C=np.hstack([alt.read_data('data/all_fr.txt',[1,2,3,4]),np.loadtxt('data/all_fr.txt')])\n",
    "ftSA1=C[C[:,0]==3,1:3]\n",
    "ftRA1=C[C[:,0]==2,1:3]\n",
    "ftPC=C[C[:,0]==4,1:3]\n",
    "ftHM=C[C[:,0]==1,1:3]\n",
    "\n",
    "#----Reprint obsevered frequency-threshold from previous literature \n",
    "plt.figure(figsize=(7.5,4)) \n",
    "plt.subplot(1,2,1)\n",
    "\n",
    "plt.xscale('log')\n",
    "plt.yscale('log')\n",
    "plt.plot(ftSA1[:,0],ftSA1[:,1],'k^',label=u'SA1',markersize=4)\n",
    "plt.plot(ftRA1[:,0],ftRA1[:,1],'ks',label=u'RA1',markersize=4)\n",
    "#plt.plot(ftSA2[:,0],ftSA2[:,1],'kd-',label=u'SA2')\n",
    "plt.plot(ftPC[:,0],ftPC[:,1],'ko',label=u'PC',markersize=4)\n",
    "plt.plot(ftHM[:,0],ftHM[:,1],'k+',markersize=6,label=u'Human threshold (HM)')\n",
    "plt.title(u\"(a)\") \n",
    "plt.xticks([1,10,100,1000]) \n",
    "plt.yticks([0.01,0.1,1,10,100])  \n",
    "plt.xlabel(u\"Frequency(Hz)\", fontproperties='')\n",
    "plt.ylabel(u\"Indentation(um)\", fontproperties='')\n",
    "plt.legend(prop={'family':'simSun','size':8}) \n",
    "#-----------------------------\n",
    "\n",
    "\n",
    "#----Prediction of our model\n",
    "plt.subplot(1,2,2)\n",
    "freq=np.linspace(1,1000,1000)\n",
    "th=np.zeros((5,freq.size))\n",
    "thall=np.zeros((5,freq.size))\n",
    "fm=0\n",
    "BW=0\n",
    "\n",
    "def data_cal(x,tpye):\n",
    "    tsensor=receptorlib.tactile_receptors(Ttype=tpye,simTime=0.2,sample_rate=100000,sample_num=1)\n",
    "    if(tpye==\"SA1\"):\n",
    "        freq1=ftSA1[:,0]\n",
    "    elif(tpye==\"RA1\"):\n",
    "        freq1=ftRA1[:,0]\n",
    "    elif(tpye==\"PC\"):\n",
    "        freq1=ftPC[:,0]\n",
    "    for i in range(int(freq1.size)):\n",
    "        th[x,i]= 1e6* tsensor.VL/np.abs(receptorlib.transfer_func(1j*2*np.pi*freq1[i],[tsensor.Kb1,tsensor.Kb2,tsensor.Kb3],tsensor.Ku,tsensor.wbl,tsensor.wbh,tsensor.wl,tsensor.N))/tsensor.As\n",
    "    \n",
    "   \n",
    "data_cal(0,\"SA1\")\n",
    "data_cal(1,\"RA1\")\n",
    "data_cal(2,\"PC\")\n",
    "\n",
    "tpye=\"HM\"\n",
    "if(tpye==\"HM\"):\n",
    "    freq1=ftHM[:,0]\n",
    "    tsensor=receptorlib.tactile_receptors(Ttype=\"SA1\",simTime=0.2,sample_rate=100000,sample_num=1)\n",
    "    for i in range(int(freq1.size)):\n",
    "        thall[0,i]= 1e6* tsensor.VL/np.abs(receptorlib.transfer_func(1j*2*np.pi*freq1[i],[tsensor.Kb1,tsensor.Kb2,tsensor.Kb3],tsensor.Ku,tsensor.wbl,tsensor.wbh,tsensor.wl,tsensor.N))/tsensor.As\n",
    "        \n",
    "    tsensor=receptorlib.tactile_receptors(Ttype=\"RA1\",simTime=0.2,sample_rate=100000,sample_num=1)\n",
    "    for i in range(int(freq1.size)):\n",
    "        thall[1,i]= 1e6* tsensor.VL/np.abs(receptorlib.transfer_func(1j*2*np.pi*freq1[i],[tsensor.Kb1,tsensor.Kb2,tsensor.Kb3],tsensor.Ku,tsensor.wbl,tsensor.wbh,tsensor.wl,tsensor.N))/tsensor.As\n",
    "       \n",
    "    tsensor=receptorlib.tactile_receptors(Ttype=\"PC\",simTime=0.2,sample_rate=100000,sample_num=1)\n",
    "    for i in range(int(freq1.size)):\n",
    "        thall[2,i]= 1e6* tsensor.VL/np.abs(receptorlib.transfer_func(1j*2*np.pi*freq1[i],[tsensor.Kb1,tsensor.Kb2,tsensor.Kb3],tsensor.Ku,tsensor.wbl,tsensor.wbh,tsensor.wl,tsensor.N))/tsensor.As  \n",
    "    for i in range(int(freq1.size)):\n",
    "            th[3,i]=np.min(thall[0:3,i])   \n",
    "         \n",
    "plt.xscale('log')\n",
    "plt.yscale('log')\n",
    "R2_SA1=R2(np.log10(th[0,0:ftSA1[:,0].size]),np.log10( ftSA1[:,1]))\n",
    "R2_RA1=R2(np.log10(th[1,0:ftRA1[:,0].size]), np.log10(ftRA1[:,1]))\n",
    "R2_PC=R2(np.log10(th[2,0:ftPC[:,0].size]), np.log10(ftPC[:,1]))\n",
    "R2_HM=R2(np.log10(th[3,0:ftHM[:,0].size]),np.log10( ftHM[:,1]))\n",
    "plt.plot(ftSA1[:,0],th[0,0:ftSA1[:,0].size],color_bf[0]+'^-',markersize=4,\n",
    "         label='SA1, '+\"$\\mathrm{R}^{2}$=\"+str(round(R2_SA1,2)))\n",
    "plt.plot(ftRA1[:,0],th[1,0:ftRA1[:,0].size],color_bf[1]+'s-',markersize=4,\n",
    "         label='RA1, '+\"$\\mathrm{R}^{2}$=\"+str(round(R2_RA1,2)))\n",
    "plt.plot(ftPC[:,0],th[2,0:ftPC[:,0].size],color_bf[2]+'o-',markersize=4,\n",
    "         label='PC , '+\"$\\mathrm{R}^{2}$=\"+str(round(R2_PC,2)))\n",
    "plt.plot(ftHM[:,0],th[3,0:ftHM[:,0].size],color='gray',markersize=4,linewidth=2.5,\n",
    "         label='HM , '+\"$\\mathrm{R}^{2}$=\"+str(round(R2_HM,2)))\n",
    "\n",
    "print(R2_SA1,R2_RA1,R2_PC,R2_HM)\n",
    "plt.title(u\"(b)\") \n",
    "plt.xticks([1,10,100,1000]) \n",
    "plt.yticks([0.01,0.1,1,10,100])   \n",
    "plt.xlabel(u\"Frequency(Hz)\", fontproperties='')\n",
    "plt.legend(prop={'family':'simSun','size':8}) \n",
    "#-----------------------\n",
    "\n",
    "\n",
    "filepath='saved_figs/'\n",
    "plt.savefig(filepath+'frequency_response.png',bbox_inches='tight', dpi=600)\n"
   ]
  },
  {
   "cell_type": "code",
   "execution_count": null,
   "metadata": {},
   "outputs": [],
   "source": []
  },
  {
   "cell_type": "code",
   "execution_count": null,
   "metadata": {},
   "outputs": [],
   "source": []
  },
  {
   "cell_type": "code",
   "execution_count": null,
   "metadata": {},
   "outputs": [],
   "source": []
  }
 ],
 "metadata": {
  "kernelspec": {
   "display_name": "Python 3",
   "language": "python",
   "name": "python3"
  },
  "language_info": {
   "codemirror_mode": {
    "name": "ipython",
    "version": 3
   },
   "file_extension": ".py",
   "mimetype": "text/x-python",
   "name": "python",
   "nbconvert_exporter": "python",
   "pygments_lexer": "ipython3",
   "version": "3.6.4"
  }
 },
 "nbformat": 4,
 "nbformat_minor": 2
}
