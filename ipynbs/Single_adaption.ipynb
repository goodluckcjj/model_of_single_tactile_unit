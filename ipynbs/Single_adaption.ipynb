{
 "cells": [
  {
   "cell_type": "code",
   "execution_count": 2,
   "metadata": {},
   "outputs": [
    {
     "name": "stderr",
     "output_type": "stream",
     "text": [
      "D:\\Users\\ouyangqq\\Anaconda3\\lib\\site-packages\\scipy\\signal\\_arraytools.py:45: FutureWarning: Using a non-tuple sequence for multidimensional indexing is deprecated; use `arr[tuple(seq)]` instead of `arr[seq]`. In the future this will be interpreted as an array index, `arr[np.array(seq)]`, which will result either in an error or a different result.\n",
      "  b = a[a_slice]\n"
     ]
    },
    {
     "data": {
      "image/png": "[encoded data removed]",
      "text/plain": [
       "<matplotlib.figure.Figure at 0x17a0cc82cf8>"
      ]
     },
     "metadata": {
      "needs_background": "light"
     },
     "output_type": "display_data"
    },
    {
     "data": {
      "image/png": "[encoded data removed]",
      "text/plain": [
       "<matplotlib.figure.Figure at 0x17a0cec54e0>"
      ]
     },
     "metadata": {
      "needs_background": "light"
     },
     "output_type": "display_data"
    },
    {
     "data": {
      "image/png": "[encoded data removed]",
      "text/plain": [
       "<matplotlib.figure.Figure at 0x17a0d03fba8>"
      ]
     },
     "metadata": {
      "needs_background": "light"
     },
     "output_type": "display_data"
    }
   ],
   "source": [
    "filepath='saved_figs/'\n",
    "#action potential response to stimulus\n",
    "from sys import path\n",
    "path.append(r'../tactile_receptors/') \n",
    "import Receptors as receptorlib\n",
    "import pandas as pd\n",
    "import matplotlib.pyplot as plt\n",
    "import numpy as np\n",
    "\n",
    "color_bf=['g','b','r','k']\n",
    "\n",
    "def Print_fig1(tsensor,x,para1,para2,para3,colour):\n",
    "    global start\n",
    "    global tr\n",
    "    global Tend\n",
    "    #global T\n",
    "    intentation=para1*1e-6\n",
    "    rate=para2\n",
    "    rate1=para3\n",
    "    tsensor.stimulus[tsensor.stp,:]=receptorlib.step_wave(tsensor.t,Tstart,Tend,rate,rate1,intentation)\n",
    "    tsensor.tactile_units_simulating(tsensor.stimulus)\n",
    "    fig.add_subplot(8,1,2*x-1)\n",
    "    plt.plot(1000*tsensor.t[start:start+tr],tsensor.Va[tsensor.stp,start:start+tr],colour,linewidth=0.3)\n",
    "    plt.yticks([],fontsize=11,color='none')\n",
    "    if(colour=='b'):\n",
    "        plt.xticks([0,0.2*tsensor.T,0.4*tsensor.T,0.6*tsensor.T,0.8*tsensor.T,tsensor.T],fontsize=11,color='none')\n",
    "    else:\n",
    "        plt.xticks([],fontsize=11,color='none')\n",
    "    if(x==15):\n",
    "        plt.xlabel(\"SA1\")\n",
    "    #plt.ylabel('um') \n",
    "    fig.add_subplot(8,1,2*x)\n",
    "    plt.plot(1000*tsensor.t[start:start+tr],1e6*tsensor.stimulus[tsensor.stp,start:start+tr],colour+'-',linewidth=0.5)\n",
    "    plt.yticks([0,990],fontsize=11,color='none')\n",
    "    plt.xticks([],fontsize=11,color='none')\n",
    "    if(x==4):\n",
    "        plt.xticks([0,1000*tsensor.T/4,1000*tsensor.T/2,1000*3*tsensor.T/4,1000*tsensor.T],fontsize=6)\n",
    "        plt.xlabel(\"Time (ms)\",fontsize=8)\n",
    "\n",
    "#----Simulating responses of single SA1 unit to ramp-and-hold indentations at different indentation depths\n",
    "tsensor=receptorlib.tactile_receptors(Ttype='SA1',simTime=0.8,sample_rate=10000,sample_num=1)      \n",
    "Tstart=0.1*tsensor.T\n",
    "Tend=0.9*tsensor.T\n",
    "start=0\n",
    "tr=int(tsensor.T/tsensor.dt-4)\n",
    "fig=plt.figure(figsize=(1.6,3.3)) \n",
    "Amv=[270,570,690,990]           \n",
    "Print_fig1(tsensor,1,Amv[0],20,-20,color_bf[0])\n",
    "Print_fig1(tsensor,2,Amv[1],20,-20,color_bf[0])\n",
    "Print_fig1(tsensor,3,Amv[2],20,-20,color_bf[0])\n",
    "Print_fig1(tsensor,4,Amv[3],20,-20,color_bf[0])\n",
    "plt.savefig(filepath+'adaption_SA1.png',bbox_inches='tight', dpi=600)\n",
    "#-------------- \n",
    "\n",
    "\n",
    "#----Simulating responses of single RA1 unit to ramps approaching indention of 850 um at different speeds.\n",
    "tsensor=receptorlib.tactile_receptors(Ttype='RA1',simTime=3,sample_rate=10000,sample_num=1)\n",
    "Tstart=0.2\n",
    "Tend=Tstart+1\n",
    "start=0\n",
    "tr=int(tsensor.T/tsensor.dt-4)\n",
    "fig=plt.figure(figsize=(1.6,3.3)) \n",
    "Amv=[26,5,1.1,0.51] \n",
    "Print_fig1(tsensor,1,850,Amv[0],-20,color_bf[1])\n",
    "Print_fig1(tsensor,2,850,Amv[1],-20,color_bf[1])\n",
    "Print_fig1(tsensor,3,850,Amv[2],-20,color_bf[1])\n",
    "tr=int(tsensor.T/tsensor.dt-4)\n",
    "Tend=0.9*tsensor.T\n",
    "Print_fig1(tsensor,4,850,Amv[3],-15,color_bf[1])\n",
    "plt.savefig(filepath+'adaption_RA1.png',bbox_inches='tight', dpi=600)\n",
    "#-------------- \n",
    "\n",
    "\n",
    "\n",
    "#Simulating responses of a PC unit to stimulus with reduction of indentation amplitude\n",
    "tsensor=receptorlib.tactile_receptors(Ttype='PC',simTime=1,sample_rate=10000,sample_num=10)\n",
    "tr=int(0.15/tsensor.dt-2)\n",
    "start=int(0/tsensor.dt) \n",
    "rate=50  #mm/s\n",
    "rate1=-20 \n",
    "Tstart=0\n",
    "Tend=0.2\n",
    "\n",
    "\n",
    "plt.figure(figsize=(1.8,3)) \n",
    "for i in range(0,5):    \n",
    "    Tstart=0.01\n",
    "    intentation=1000*1e-6#um\n",
    "    rate=50  #mm/s\n",
    "    tsensor.stimulus[tsensor.stp+i+1,int(Tstart/tsensor.dt):]+=receptorlib.step_wave(tsensor.t,Tstart,Tend,rate,rate1,intentation)[int(Tstart/tsensor.dt):]\n",
    "    \n",
    "    Tstart=Tstart+intentation*1e3/rate\n",
    "    intentation=(i+1)*160*1e-6 #um\n",
    "    rate=20  #mm/s\n",
    "    tsensor.stimulus[tsensor.stp+i+1,int(Tstart/tsensor.dt):]+=receptorlib.step_wave(tsensor.t,Tstart,Tend,rate,rate1,intentation)[int(Tstart/tsensor.dt):]\n",
    "\n",
    "for i in range(5):    \n",
    "    tsensor.stimulus[tsensor.stp,:]=tsensor.stimulus[tsensor.stp+5-i,:]\n",
    "    tsensor.tactile_units_simulating(tsensor.stimulus)\n",
    "    plt.subplot(7,1,1+i)\n",
    "    plt.plot(1000*tsensor.t[start:start+tr],tsensor.Va[tsensor.stp,start:start+tr],color_bf[2],linewidth=0.3)\n",
    "    plt.yticks([],fontsize=10,color='none')\n",
    "    plt.xticks([])\n",
    "\n",
    "ax1=plt.subplot(414)\n",
    "ax1.spines['top'].set_color('None')\n",
    "ax1.spines['right'].set_color('None') \n",
    "plt.plot(1000*tsensor.t[start:start+tr],1e6*tsensor.stimulus[tsensor.stp+1,start:start+tr],color_bf[2]+'-',linewidth=0.5)\n",
    "plt.plot(1000*tsensor.t[start:start+tr],1e6*tsensor.stimulus[tsensor.stp+2,start:start+tr],color_bf[2]+'-',linewidth=0.5)\n",
    "plt.plot(1000*tsensor.t[start:start+tr],1e6*tsensor.stimulus[tsensor.stp+3,start:start+tr],color_bf[2]+'-',linewidth=0.5)\n",
    "plt.plot(1000*tsensor.t[start:start+tr],1e6*tsensor.stimulus[tsensor.stp+4,start:start+tr],color_bf[2]+'-',linewidth=0.5)\n",
    "plt.plot(1000*tsensor.t[start:start+tr],1e6*tsensor.stimulus[tsensor.stp+5,start:start+tr],color_bf[2]+'-',linewidth=0.5)\n",
    "plt.yticks([],fontsize=11,color='none')\n",
    "plt.xticks([0,50,100,150],fontsize=8)\n",
    "plt.xlabel('Time (ms)',fontsize=10)\n",
    "\n",
    "plt.savefig(filepath+'adaption_pc.png',bbox_inches='tight', dpi=300)\n",
    "#-------------- \n"
   ]
  },
  {
   "cell_type": "code",
   "execution_count": null,
   "metadata": {},
   "outputs": [],
   "source": []
  },
  {
   "cell_type": "code",
   "execution_count": null,
   "metadata": {},
   "outputs": [],
   "source": []
  },
  {
   "cell_type": "code",
   "execution_count": null,
   "metadata": {},
   "outputs": [],
   "source": []
  }
 ],
 "metadata": {
  "kernelspec": {
   "display_name": "Python 3",
   "language": "python",
   "name": "python3"
  },
  "language_info": {
   "codemirror_mode": {
    "name": "ipython",
    "version": 3
   },
   "file_extension": ".py",
   "mimetype": "text/x-python",
   "name": "python",
   "nbconvert_exporter": "python",
   "pygments_lexer": "ipython3",
   "version": "3.6.4"
  }
 },
 "nbformat": 4,
 "nbformat_minor": 2
}
